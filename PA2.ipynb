{
  "nbformat": 4,
  "nbformat_minor": 0,
  "metadata": {
    "colab": {
      "name": "PA2.ipynb",
      "provenance": [],
      "collapsed_sections": []
    },
    "kernelspec": {
      "name": "python3",
      "display_name": "Python 3"
    },
    "language_info": {
      "name": "python"
    }
  },
  "cells": [
    {
      "cell_type": "markdown",
      "source": [
        "DES code link: https://github.com/RobinDavid/pydes/blob/master/pydes.py"
      ],
      "metadata": {
        "id": "CqI_rvTDYr7c"
      }
    },
    {
      "cell_type": "code",
      "execution_count": 1,
      "metadata": {
        "colab": {
          "base_uri": "https://localhost:8080/"
        },
        "id": "LOnaTEynDiyd",
        "outputId": "e0794ce8-615a-4c33-9ccc-7a23b5f5c9d2"
      },
      "outputs": [
        {
          "output_type": "stream",
          "name": "stdout",
          "text": [
            "Example\n",
            "Key:  MySecret\n",
            "Ciphered: 'xI\\x16{Ø\\x7fïÆ'\n",
            "Deciphered:  Shayak D\n"
          ]
        }
      ],
      "source": [
        "#-*- coding: utf8 -*-\n",
        "\n",
        "#Initial permut matrix for the datas\n",
        "PI = [58, 50, 42, 34, 26, 18, 10, 2,\n",
        "      60, 52, 44, 36, 28, 20, 12, 4,\n",
        "      62, 54, 46, 38, 30, 22, 14, 6,\n",
        "      64, 56, 48, 40, 32, 24, 16, 8,\n",
        "      57, 49, 41, 33, 25, 17, 9, 1,\n",
        "      59, 51, 43, 35, 27, 19, 11, 3,\n",
        "      61, 53, 45, 37, 29, 21, 13, 5,\n",
        "      63, 55, 47, 39, 31, 23, 15, 7]\n",
        "\n",
        "#Initial permut made on the key\n",
        "CP_1 = [57, 49, 41, 33, 25, 17, 9,\n",
        "        1, 58, 50, 42, 34, 26, 18,\n",
        "        10, 2, 59, 51, 43, 35, 27,\n",
        "        19, 11, 3, 60, 52, 44, 36,\n",
        "        63, 55, 47, 39, 31, 23, 15,\n",
        "        7, 62, 54, 46, 38, 30, 22,\n",
        "        14, 6, 61, 53, 45, 37, 29,\n",
        "        21, 13, 5, 28, 20, 12, 4]\n",
        "\n",
        "#Permut applied on shifted key to get Ki+1\n",
        "CP_2 = [14, 17, 11, 24, 1, 5, 3, 28,\n",
        "        15, 6, 21, 10, 23, 19, 12, 4,\n",
        "        26, 8, 16, 7, 27, 20, 13, 2,\n",
        "        41, 52, 31, 37, 47, 55, 30, 40,\n",
        "        51, 45, 33, 48, 44, 49, 39, 56,\n",
        "        34, 53, 46, 42, 50, 36, 29, 32]\n",
        "\n",
        "#Expand matrix to get a 48bits matrix of datas to apply the xor with Ki\n",
        "E = [32, 1, 2, 3, 4, 5,\n",
        "     4, 5, 6, 7, 8, 9,\n",
        "     8, 9, 10, 11, 12, 13,\n",
        "     12, 13, 14, 15, 16, 17,\n",
        "     16, 17, 18, 19, 20, 21,\n",
        "     20, 21, 22, 23, 24, 25,\n",
        "     24, 25, 26, 27, 28, 29,\n",
        "     28, 29, 30, 31, 32, 1]\n",
        "\n",
        "#SBOX\n",
        "S_BOX = [\n",
        "         \n",
        "[[14, 4, 13, 1, 2, 15, 11, 8, 3, 10, 6, 12, 5, 9, 0, 7],\n",
        " [0, 15, 7, 4, 14, 2, 13, 1, 10, 6, 12, 11, 9, 5, 3, 8],\n",
        " [4, 1, 14, 8, 13, 6, 2, 11, 15, 12, 9, 7, 3, 10, 5, 0],\n",
        " [15, 12, 8, 2, 4, 9, 1, 7, 5, 11, 3, 14, 10, 0, 6, 13],\n",
        "],\n",
        "\n",
        "[[15, 1, 8, 14, 6, 11, 3, 4, 9, 7, 2, 13, 12, 0, 5, 10],\n",
        " [3, 13, 4, 7, 15, 2, 8, 14, 12, 0, 1, 10, 6, 9, 11, 5],\n",
        " [0, 14, 7, 11, 10, 4, 13, 1, 5, 8, 12, 6, 9, 3, 2, 15],\n",
        " [13, 8, 10, 1, 3, 15, 4, 2, 11, 6, 7, 12, 0, 5, 14, 9],\n",
        "],\n",
        "\n",
        "[[10, 0, 9, 14, 6, 3, 15, 5, 1, 13, 12, 7, 11, 4, 2, 8],\n",
        " [13, 7, 0, 9, 3, 4, 6, 10, 2, 8, 5, 14, 12, 11, 15, 1],\n",
        " [13, 6, 4, 9, 8, 15, 3, 0, 11, 1, 2, 12, 5, 10, 14, 7],\n",
        " [1, 10, 13, 0, 6, 9, 8, 7, 4, 15, 14, 3, 11, 5, 2, 12],\n",
        "],\n",
        "\n",
        "[[7, 13, 14, 3, 0, 6, 9, 10, 1, 2, 8, 5, 11, 12, 4, 15],\n",
        " [13, 8, 11, 5, 6, 15, 0, 3, 4, 7, 2, 12, 1, 10, 14, 9],\n",
        " [10, 6, 9, 0, 12, 11, 7, 13, 15, 1, 3, 14, 5, 2, 8, 4],\n",
        " [3, 15, 0, 6, 10, 1, 13, 8, 9, 4, 5, 11, 12, 7, 2, 14],\n",
        "],  \n",
        "\n",
        "[[2, 12, 4, 1, 7, 10, 11, 6, 8, 5, 3, 15, 13, 0, 14, 9],\n",
        " [14, 11, 2, 12, 4, 7, 13, 1, 5, 0, 15, 10, 3, 9, 8, 6],\n",
        " [4, 2, 1, 11, 10, 13, 7, 8, 15, 9, 12, 5, 6, 3, 0, 14],\n",
        " [11, 8, 12, 7, 1, 14, 2, 13, 6, 15, 0, 9, 10, 4, 5, 3],\n",
        "], \n",
        "\n",
        "[[12, 1, 10, 15, 9, 2, 6, 8, 0, 13, 3, 4, 14, 7, 5, 11],\n",
        " [10, 15, 4, 2, 7, 12, 9, 5, 6, 1, 13, 14, 0, 11, 3, 8],\n",
        " [9, 14, 15, 5, 2, 8, 12, 3, 7, 0, 4, 10, 1, 13, 11, 6],\n",
        " [4, 3, 2, 12, 9, 5, 15, 10, 11, 14, 1, 7, 6, 0, 8, 13],\n",
        "], \n",
        "\n",
        "[[4, 11, 2, 14, 15, 0, 8, 13, 3, 12, 9, 7, 5, 10, 6, 1],\n",
        " [13, 0, 11, 7, 4, 9, 1, 10, 14, 3, 5, 12, 2, 15, 8, 6],\n",
        " [1, 4, 11, 13, 12, 3, 7, 14, 10, 15, 6, 8, 0, 5, 9, 2],\n",
        " [6, 11, 13, 8, 1, 4, 10, 7, 9, 5, 0, 15, 14, 2, 3, 12],\n",
        "],\n",
        "   \n",
        "[[13, 2, 8, 4, 6, 15, 11, 1, 10, 9, 3, 14, 5, 0, 12, 7],\n",
        " [1, 15, 13, 8, 10, 3, 7, 4, 12, 5, 6, 11, 0, 14, 9, 2],\n",
        " [7, 11, 4, 1, 9, 12, 14, 2, 0, 6, 10, 13, 15, 3, 5, 8],\n",
        " [2, 1, 14, 7, 4, 10, 8, 13, 15, 12, 9, 0, 3, 5, 6, 11],\n",
        "]\n",
        "]\n",
        "\n",
        "#Permut made after each SBox substitution for each round\n",
        "P = [16, 7, 20, 21, 29, 12, 28, 17,\n",
        "     1, 15, 23, 26, 5, 18, 31, 10,\n",
        "     2, 8, 24, 14, 32, 27, 3, 9,\n",
        "     19, 13, 30, 6, 22, 11, 4, 25]\n",
        "\n",
        "#Final permut for datas after the 16 rounds\n",
        "PI_1 = [40, 8, 48, 16, 56, 24, 64, 32,\n",
        "        39, 7, 47, 15, 55, 23, 63, 31,\n",
        "        38, 6, 46, 14, 54, 22, 62, 30,\n",
        "        37, 5, 45, 13, 53, 21, 61, 29,\n",
        "        36, 4, 44, 12, 52, 20, 60, 28,\n",
        "        35, 3, 43, 11, 51, 19, 59, 27,\n",
        "        34, 2, 42, 10, 50, 18, 58, 26,\n",
        "        33, 1, 41, 9, 49, 17, 57, 25]\n",
        "\n",
        "#Matrix that determine the shift for each round of keys\n",
        "SHIFT = [1,1,2,2,2,2,2,2,1,2,2,2,2,2,2,1]\n",
        "\n",
        "def string_to_bit_array(text):#Convert a string into a list of bits\n",
        "    array = list()\n",
        "    for char in text:\n",
        "        binval = binvalue(char, 8)#Get the char value on one byte\n",
        "        array.extend([int(x) for x in list(binval)]) #Add the bits to the final list\n",
        "    return array\n",
        "\n",
        "def bit_array_to_string(array): #Recreate the string from the bit array\n",
        "    res = ''.join([chr(int(y,2)) for y in [''.join([str(x) for x in _bytes]) for _bytes in  nsplit(array,8)]])   \n",
        "    return res\n",
        "\n",
        "def binvalue(val, bitsize): #Return the binary value as a string of the given size \n",
        "    binval = bin(val)[2:] if isinstance(val, int) else bin(ord(val))[2:]\n",
        "    if len(binval) > bitsize:\n",
        "        raise \"binary value larger than the expected size\"\n",
        "    while len(binval) < bitsize:\n",
        "        binval = \"0\"+binval #Add as many 0 as needed to get the wanted size\n",
        "    return binval\n",
        "\n",
        "def nsplit(s, n):#Split a list into sublists of size \"n\"\n",
        "    return [s[k:k+n] for k in range(0, len(s), n)]\n",
        "\n",
        "ENCRYPT=1\n",
        "DECRYPT=0\n",
        "\n",
        "class des():\n",
        "    def __init__(self):\n",
        "        self.password = None\n",
        "        self.text = None\n",
        "        self.keys = list()\n",
        "        \n",
        "    def run(self, key, text, action=ENCRYPT, padding=False):\n",
        "        if len(key) < 8:\n",
        "            raise \"Key Should be 8 bytes long\"\n",
        "        elif len(key) > 8:\n",
        "            key = key[:8] #If key size is above 8bytes, cut to be 8bytes long\n",
        "        \n",
        "        self.password = key\n",
        "        self.text = text\n",
        "        \n",
        "        rounds = [] # changed\n",
        "        \n",
        "        if padding and action==ENCRYPT:\n",
        "            self.addPadding()\n",
        "        elif len(self.text) % 8 != 0:#If not padding specified data size must be multiple of 8 bytes\n",
        "            raise \"Data size should be multiple of 8\"\n",
        "        \n",
        "        self.generatekeys() #Generate all the keys\n",
        "        text_blocks = nsplit(self.text, 8) #Split the text in blocks of 8 bytes so 64 bits\n",
        "        result = list()\n",
        "        for block in text_blocks:#Loop over all the blocks of data\n",
        "            block = string_to_bit_array(block)#Convert the block in bit array\n",
        "            block = self.permut(block,PI)#Apply the initial permutation\n",
        "            g, d = nsplit(block, 32) #g(LEFT), d(RIGHT)\n",
        "            tmp = None\n",
        "            for i in range(16): #Do the 16 rounds\n",
        "                d_e = self.expand(d, E) #Expand d to match Ki size (48bits)\n",
        "                if action == ENCRYPT:\n",
        "                    tmp = self.xor(self.keys[i], d_e)#If encrypt use Ki\n",
        "                else:\n",
        "                    tmp = self.xor(self.keys[15-i], d_e)#If decrypt start by the last key\n",
        "                tmp = self.substitute(tmp) #Method that will apply the SBOXes\n",
        "                tmp = self.permut(tmp, P)\n",
        "                tmp = self.xor(g, tmp)\n",
        "                g = d\n",
        "                d = tmp\n",
        "                rounds.append([g, d]) # changed\n",
        "            result += self.permut(d+g, PI_1) #Do the last permut and append the result to result\n",
        "        final_res = bit_array_to_string(result)\n",
        "        if padding and action==DECRYPT:\n",
        "            return self.removePadding(final_res), rounds #Remove the padding if decrypt and padding is true (changed)\n",
        "        else:\n",
        "            return final_res, rounds #Return the final string of data ciphered/deciphered (changed)\n",
        "    \n",
        "    def substitute(self, d_e):#Substitute bytes using SBOX\n",
        "        subblocks = nsplit(d_e, 6)#Split bit array into sublist of 6 bits\n",
        "        result = list()\n",
        "        for i in range(len(subblocks)): #For all the sublists\n",
        "            block = subblocks[i]\n",
        "            row = int(str(block[0])+str(block[5]),2)#Get the row with the first and last bit\n",
        "            column = int(''.join([str(x) for x in block[1:][:-1]]),2) #Column is the 2,3,4,5th bits\n",
        "            val = S_BOX[i][row][column] #Take the value in the SBOX appropriated for the round (i)\n",
        "            bin = binvalue(val, 4)#Convert the value to binary\n",
        "            result += [int(x) for x in bin]#And append it to the resulting list\n",
        "        return result\n",
        "        \n",
        "    def permut(self, block, table):#Permut the given block using the given table (so generic method)\n",
        "        return [block[x-1] for x in table]\n",
        "    \n",
        "    def expand(self, block, table):#Do the exact same thing than permut but for more clarity has been renamed\n",
        "        return [block[x-1] for x in table]\n",
        "    \n",
        "    def xor(self, t1, t2):#Apply a xor and return the resulting list\n",
        "        return [x^y for x,y in zip(t1,t2)]\n",
        "    \n",
        "    def generatekeys(self):#Algorithm that generates all the keys\n",
        "        self.keys = []\n",
        "        key = string_to_bit_array(self.password)\n",
        "        key = self.permut(key, CP_1) #Apply the initial permut on the key\n",
        "        g, d = nsplit(key, 28) #Split it in to (g->LEFT),(d->RIGHT)\n",
        "        for i in range(16):#Apply the 16 rounds\n",
        "            g, d = self.shift(g, d, SHIFT[i]) #Apply the shift associated with the round (not always 1)\n",
        "            tmp = g + d #Merge them\n",
        "            self.keys.append(self.permut(tmp, CP_2)) #Apply the permut to get the Ki\n",
        "\n",
        "    def shift(self, g, d, n): #Shift a list of the given value\n",
        "        return g[n:] + g[:n], d[n:] + d[:n]\n",
        "    \n",
        "    def addPadding(self):#Add padding to the datas using PKCS5 spec.\n",
        "        pad_len = 8 - (len(self.text) % 8)\n",
        "        self.text += pad_len * chr(pad_len)\n",
        "    \n",
        "    def removePadding(self, data):#Remove the padding of the plain text (it assume there is padding)\n",
        "        pad_len = ord(data[-1])\n",
        "        return data[:-pad_len]\n",
        "    \n",
        "    def encrypt(self, key, text, padding=False):\n",
        "        return self.run(key, text, ENCRYPT, padding)\n",
        "    \n",
        "    def decrypt(self, key, text, padding=False):\n",
        "        return self.run(key, text, DECRYPT, padding)\n",
        "    \n",
        "if __name__ == '__main__':\n",
        "    key = \"MySecret\"\n",
        "    text= \"Shayak D\"\n",
        "    d = des()\n",
        "    r, rounds = d.encrypt(key,text)\n",
        "    r2, roudnds2 = d.decrypt(key,r)\n",
        "    print(\"Example\")\n",
        "    print(\"Key: \", key)\n",
        "    print(\"Ciphered: %r\" % r)\n",
        "    print(\"Deciphered: \", r2)"
      ]
    },
    {
      "cell_type": "markdown",
      "source": [
        "Avalanche effect using 5 different plaintexts with a hamming distace of 1 from the original plaintext"
      ],
      "metadata": {
        "id": "I88kliHWY6wn"
      }
    },
    {
      "cell_type": "code",
      "source": [
        "import random\n",
        "import string\n",
        "import pandas as pd\n",
        "\n",
        "# To given Hamming Distances for given DES rounds of distict two keys and single plain text\n",
        "def helperhd(rounds1, rounds2, ihd):\n",
        "    y = [ihd]\n",
        "    for i in range(16):\n",
        "        hd = 0\n",
        "        for k in range(2):\n",
        "            for j in range(32):\n",
        "                if rounds1[i][k][j] != rounds2[i][k][j]:\n",
        "                    hd += 1\n",
        "        y.append(hd)\n",
        "    return y\n",
        "\n",
        "# It plots the box plot for distict Rounds\n",
        "def makeplot(key, texts):\n",
        "    df = pd.DataFrame()\n",
        "    for i in range(1,6):\n",
        "        r1, rounds1 = d.encrypt(key, texts[0])\n",
        "        r2, rounds2 = d.encrypt(key, texts[i])\n",
        "        y = helperhd(rounds1, rounds2, i);\n",
        "        df['HD'+str(i)] = y\n",
        "    df = df.T\n",
        "    boxplot = df.boxplot()\n",
        "    boxplot.set_xlabel(\"Rounds\")\n",
        "    boxplot.set_ylabel(\"Hamming Distances\")\n",
        "    print('Distinct Plain Text and Single Key')\n",
        "    print(boxplot)\n",
        "\n",
        "# Generating Random Key\n",
        "key = ''.join(random.choice(string.ascii_lowercase) for i in range(8))\n",
        "# Distict plain text with distinct Hamming Distance\n",
        "texts = ['Shayak D', 'Shayak J', 'Sxayak D', 'Shazak D', 'Shiyak D', 'Shayaj D']\n",
        "\n",
        "d = des()\n",
        "\n",
        "makeplot(key, texts)"
      ],
      "metadata": {
        "colab": {
          "base_uri": "https://localhost:8080/",
          "height": 315
        },
        "id": "dscznrPVDrtC",
        "outputId": "88d24b36-2b96-4fd6-e8da-0eea5835d95c"
      },
      "execution_count": 2,
      "outputs": [
        {
          "output_type": "stream",
          "name": "stdout",
          "text": [
            "Distinct Plain Text and Single Key\n",
            "AxesSubplot(0.125,0.125;0.775x0.755)\n"
          ]
        },
        {
          "output_type": "display_data",
          "data": {
            "image/png": "[encoded data removed]",
            "text/plain": [
              "<Figure size 432x288 with 1 Axes>"
            ]
          },
          "metadata": {
            "needs_background": "light"
          }
        }
      ]
    },
    {
      "cell_type": "markdown",
      "source": [
        "Avalanche effect using 5 different plaintexts with different hamming distances from the original plaintext"
      ],
      "metadata": {
        "id": "m-czkWHLZUUe"
      }
    },
    {
      "cell_type": "code",
      "source": [
        "import random\n",
        "import string\n",
        "import pandas as pd\n",
        "\n",
        "# To given Hamming Distances for given DES rounds of distict two keys and single plain text\n",
        "def helperhd(rounds1, rounds2, ihd):\n",
        "    y = [ihd]\n",
        "    for i in range(16):\n",
        "        hd = 0\n",
        "        for k in range(2):\n",
        "            for j in range(32):\n",
        "                if rounds1[i][k][j] != rounds2[i][k][j]:\n",
        "                    hd += 1\n",
        "        y.append(hd)\n",
        "    return y\n",
        "\n",
        "# It plots the box plot for distict Rounds\n",
        "def makeplot(key, texts):\n",
        "    df = pd.DataFrame()\n",
        "    for i in range(1,6):\n",
        "        r1, rounds1 = d.encrypt(key, texts[0])\n",
        "        r2, rounds2 = d.encrypt(key, texts[i])\n",
        "        y = helperhd(rounds1, rounds2, i);\n",
        "        df['HD'+str(i)] = y\n",
        "    df = df.T\n",
        "    boxplot = df.boxplot()\n",
        "    boxplot.set_xlabel(\"Rounds\")\n",
        "    boxplot.set_ylabel(\"Hamming Distances\")\n",
        "    print('Distinct Plain Text and Single Key')\n",
        "    print(boxplot)\n",
        "\n",
        "# Generating Random Key\n",
        "key = ''.join(random.choice(string.ascii_lowercase) for i in range(8))\n",
        "# Distict plain text with distinct Hamming Distance\n",
        "texts = ['Shayak D', 'Shayak J', 'Sxayak J', 'Sxazak J', 'Sxizak J', 'Sxizak J']\n",
        "\n",
        "d = des()\n",
        "\n",
        "makeplot(key, texts)"
      ],
      "metadata": {
        "colab": {
          "base_uri": "https://localhost:8080/",
          "height": 315
        },
        "id": "P_2Xa23EZVpB",
        "outputId": "7d898107-f922-4351-bc4b-e3dfd8c3ccad"
      },
      "execution_count": 3,
      "outputs": [
        {
          "output_type": "stream",
          "name": "stdout",
          "text": [
            "Distinct Plain Text and Single Key\n",
            "AxesSubplot(0.125,0.125;0.775x0.755)\n"
          ]
        },
        {
          "output_type": "display_data",
          "data": {
            "image/png": "[encoded data removed]",
            "text/plain": [
              "<Figure size 432x288 with 1 Axes>"
            ]
          },
          "metadata": {
            "needs_background": "light"
          }
        }
      ]
    },
    {
      "cell_type": "markdown",
      "source": [
        "Avalanche effect using 5 different keys with a hamming distace of 1 from the original key keeping the plaintext same"
      ],
      "metadata": {
        "id": "o4uop2O_Y-KO"
      }
    },
    {
      "cell_type": "code",
      "source": [
        "import random\n",
        "import string\n",
        "import pandas as pd\n",
        "\n",
        "# To given Hamming Distances for given DES rounds of distict two plain text and single key\n",
        "def helperhd(rounds1, rounds2, ihd):\n",
        "    y = [0]\n",
        "    for i in range(16):\n",
        "        hd = 0\n",
        "        for k in range(2):\n",
        "            for j in range(32):\n",
        "                if rounds1[i][k][j] != rounds2[i][k][j]:\n",
        "                    hd += 1\n",
        "        y.append(hd)\n",
        "    return y\n",
        "\n",
        "# It plots the box plot for distict Rounds\n",
        "def makeplot(keys, text):\n",
        "    df = pd.DataFrame()\n",
        "    for i in range(1,6):\n",
        "        r1, rounds1 = d.encrypt(keys[0], text)\n",
        "        r2, rounds2 = d.encrypt(keys[i], text)\n",
        "        y = helperhd(rounds1, rounds2, i);\n",
        "        df['HD'+str(i)] = y\n",
        "    df = df.T\n",
        "    boxplot = df.boxplot()\n",
        "    boxplot.set_xlabel(\"Rounds\")\n",
        "    boxplot.set_ylabel(\"Hamming Distances\")\n",
        "    print('Distinct Keys and Single Plain Text')\n",
        "    print(boxplot)\n",
        "\n",
        "# Generating random Plain Text\n",
        "plaintext = ''.join(random.choice(string.ascii_lowercase) for i in range(8))\n",
        "# distinct keys with distinct Hamming Distances\n",
        "keys = ['Shayak D', 'Shayak J', 'Sxayak D', 'Shazak D', 'Shiyak D', 'Shayaj D']\n",
        "\n",
        "d = des()\n",
        "\n",
        "makeplot(keys, plaintext)"
      ],
      "metadata": {
        "colab": {
          "base_uri": "https://localhost:8080/",
          "height": 315
        },
        "id": "gHyuDrUBWZMc",
        "outputId": "866b2df7-df6b-419f-94d7-f111636a7549"
      },
      "execution_count": 4,
      "outputs": [
        {
          "output_type": "stream",
          "name": "stdout",
          "text": [
            "Distinct Keys and Single Plain Text\n",
            "AxesSubplot(0.125,0.125;0.775x0.755)\n"
          ]
        },
        {
          "output_type": "display_data",
          "data": {
            "image/png": "[encoded data removed]",
            "text/plain": [
              "<Figure size 432x288 with 1 Axes>"
            ]
          },
          "metadata": {
            "needs_background": "light"
          }
        }
      ]
    },
    {
      "cell_type": "code",
      "source": [
        ""
      ],
      "metadata": {
        "id": "q6gvYr-iYnCw"
      },
      "execution_count": 4,
      "outputs": []
    }
  ]
}